{
 "cells": [
  {
   "cell_type": "code",
   "execution_count": 1,
   "metadata": {
    "id": "7oYm9iCfIrzG"
   },
   "outputs": [],
   "source": [
    "import numpy as np"
   ]
  },
  {
   "cell_type": "code",
   "execution_count": 2,
   "metadata": {
    "id": "VuEA6YyONFIL"
   },
   "outputs": [],
   "source": [
    "matrix = np.array([\n",
    "    [1,1,2],\n",
    "    [3,5,8],\n",
    "    [13,21,34]\n",
    "])"
   ]
  },
  {
   "cell_type": "code",
   "execution_count": 3,
   "metadata": {
    "id": "yuJfdseHOdnc"
   },
   "outputs": [],
   "source": [
    "multiply_2 = lambda i: i * 2"
   ]
  },
  {
   "cell_type": "code",
   "execution_count": 4,
   "metadata": {
    "id": "dj_b-vfcOiHj"
   },
   "outputs": [],
   "source": [
    "vectorized_multiply = np.vectorize(multiply_2)"
   ]
  },
  {
   "cell_type": "code",
   "execution_count": 5,
   "metadata": {
    "colab": {
     "base_uri": "https://localhost:8080/"
    },
    "id": "eCQ8yQoWOyab",
    "outputId": "bad110e5-33ec-425c-f1aa-63ee9a6f9e63"
   },
   "outputs": [
    {
     "data": {
      "text/plain": [
       "array([[ 2,  2,  4],\n",
       "       [ 6, 10, 16],\n",
       "       [26, 42, 68]])"
      ]
     },
     "execution_count": 5,
     "metadata": {},
     "output_type": "execute_result"
    }
   ],
   "source": [
    "vectorized_multiply(matrix)"
   ]
  },
  {
   "cell_type": "markdown",
   "metadata": {
    "id": "o8BfYJxtPJus"
   },
   "source": [
    "# Finding Maximum and Minimum Values"
   ]
  },
  {
   "cell_type": "code",
   "execution_count": 6,
   "metadata": {
    "id": "nmWb9QHHPQG9"
   },
   "outputs": [],
   "source": [
    "import numpy as np"
   ]
  },
  {
   "cell_type": "code",
   "execution_count": 7,
   "metadata": {
    "id": "08WiIVA0PT2z"
   },
   "outputs": [],
   "source": [
    "matrix = np.array([\n",
    "    [1,3,5,6,3],\n",
    "    [4,56,8,4,3],\n",
    "    [8,5,7,5,4]\n",
    "])"
   ]
  },
  {
   "cell_type": "code",
   "execution_count": 8,
   "metadata": {
    "colab": {
     "base_uri": "https://localhost:8080/"
    },
    "id": "JSJmsN1-PeUk",
    "outputId": "e019de1b-6572-4cd4-85dc-006039e91efa"
   },
   "outputs": [
    {
     "data": {
      "text/plain": [
       "np.int64(56)"
      ]
     },
     "execution_count": 8,
     "metadata": {},
     "output_type": "execute_result"
    }
   ],
   "source": [
    "np.max(matrix)"
   ]
  },
  {
   "cell_type": "code",
   "execution_count": 9,
   "metadata": {
    "colab": {
     "base_uri": "https://localhost:8080/"
    },
    "id": "jZsI1KeMPfz7",
    "outputId": "98512dca-3e80-4d6c-c764-b11702d068c3"
   },
   "outputs": [
    {
     "data": {
      "text/plain": [
       "array([ 8, 56,  8,  6,  4])"
      ]
     },
     "execution_count": 9,
     "metadata": {},
     "output_type": "execute_result"
    }
   ],
   "source": [
    "np.max(matrix, axis=0)"
   ]
  },
  {
   "cell_type": "code",
   "execution_count": 10,
   "metadata": {
    "colab": {
     "base_uri": "https://localhost:8080/"
    },
    "id": "imOlAaSMPnyd",
    "outputId": "2f7f4c20-521e-4545-cdf2-372e3e14bae5"
   },
   "outputs": [
    {
     "data": {
      "text/plain": [
       "array([ 6, 56,  8])"
      ]
     },
     "execution_count": 10,
     "metadata": {},
     "output_type": "execute_result"
    }
   ],
   "source": [
    "np.max(matrix, axis=1)"
   ]
  },
  {
   "cell_type": "markdown",
   "metadata": {
    "id": "u8Z3w6aQP0pM"
   },
   "source": [
    "# 1.8 Calculating the Average, Variance, and Standard Deviation"
   ]
  },
  {
   "cell_type": "code",
   "execution_count": 11,
   "metadata": {
    "id": "ffkO0WwqP3kH"
   },
   "outputs": [],
   "source": [
    "import numpy as np"
   ]
  },
  {
   "cell_type": "code",
   "execution_count": 12,
   "metadata": {
    "id": "X-Y4ita8P4_k"
   },
   "outputs": [],
   "source": [
    "matrix = np.array([\n",
    "    [1,1,2],\n",
    "    [3,5,8],\n",
    "    [13,21,34]\n",
    "])"
   ]
  },
  {
   "cell_type": "code",
   "execution_count": 13,
   "metadata": {
    "colab": {
     "base_uri": "https://localhost:8080/"
    },
    "id": "KgsDyTXAQDaT",
    "outputId": "e7cc1faf-a764-4825-c1b2-0dc58e930683"
   },
   "outputs": [
    {
     "data": {
      "text/plain": [
       "np.float64(9.777777777777779)"
      ]
     },
     "execution_count": 13,
     "metadata": {},
     "output_type": "execute_result"
    }
   ],
   "source": [
    "np.mean(matrix)"
   ]
  },
  {
   "cell_type": "code",
   "execution_count": 14,
   "metadata": {
    "colab": {
     "base_uri": "https://localhost:8080/"
    },
    "id": "2obZH2a4QF-T",
    "outputId": "7e656eae-f342-400c-93c3-1f7524b584b0"
   },
   "outputs": [
    {
     "data": {
      "text/plain": [
       "np.float64(112.17283950617283)"
      ]
     },
     "execution_count": 14,
     "metadata": {},
     "output_type": "execute_result"
    }
   ],
   "source": [
    "np.var(matrix)"
   ]
  },
  {
   "cell_type": "code",
   "execution_count": 15,
   "metadata": {
    "colab": {
     "base_uri": "https://localhost:8080/"
    },
    "id": "orJo6w2UQJHc",
    "outputId": "5bbd13bf-5e1e-45b3-95d1-e77957066a35"
   },
   "outputs": [
    {
     "data": {
      "text/plain": [
       "np.float64(10.591167995371087)"
      ]
     },
     "execution_count": 15,
     "metadata": {},
     "output_type": "execute_result"
    }
   ],
   "source": [
    "np.std(matrix)"
   ]
  },
  {
   "cell_type": "code",
   "execution_count": 16,
   "metadata": {
    "colab": {
     "base_uri": "https://localhost:8080/"
    },
    "id": "7sCoV0UIQRKD",
    "outputId": "94b4a515-acd9-4e40-81c8-489095d24813"
   },
   "outputs": [
    {
     "data": {
      "text/plain": [
       "array([ 5.66666667,  9.        , 14.66666667])"
      ]
     },
     "execution_count": 16,
     "metadata": {},
     "output_type": "execute_result"
    }
   ],
   "source": [
    "np.mean(matrix, axis=0)"
   ]
  },
  {
   "cell_type": "markdown",
   "metadata": {
    "id": "9pfy7dmEQk6E"
   },
   "source": [
    "# 1.9 Reshaping Arrays"
   ]
  },
  {
   "cell_type": "code",
   "execution_count": 17,
   "metadata": {
    "id": "s8i9yFvQQn6-"
   },
   "outputs": [],
   "source": [
    "import numpy as np"
   ]
  },
  {
   "cell_type": "code",
   "execution_count": 18,
   "metadata": {
    "id": "v6iZH_LsQpK8"
   },
   "outputs": [],
   "source": [
    "matrix = np.array([\n",
    "    [1,1,2],\n",
    "    [3,5,8],\n",
    "    [13,21,34],\n",
    "    [55, 89, 144]\n",
    "])"
   ]
  },
  {
   "cell_type": "code",
   "execution_count": 19,
   "metadata": {
    "id": "bkJ1vgTFQ678"
   },
   "outputs": [],
   "source": [
    "reshaped = np.reshape(matrix, (2,6))"
   ]
  },
  {
   "cell_type": "code",
   "execution_count": 20,
   "metadata": {
    "colab": {
     "base_uri": "https://localhost:8080/"
    },
    "id": "x9TPqOifRBBM",
    "outputId": "6ecbb673-f92d-41cb-f989-7174b96f5048"
   },
   "outputs": [
    {
     "name": "stdout",
     "output_type": "stream",
     "text": [
      "[[  1   1   2   3   5   8]\n",
      " [ 13  21  34  55  89 144]]\n"
     ]
    }
   ],
   "source": [
    "print(reshaped)"
   ]
  },
  {
   "cell_type": "markdown",
   "metadata": {
    "id": "fI8LJ8A5RUk0"
   },
   "source": [
    "# 1.10 Introduction to Linear Algebra"
   ]
  },
  {
   "cell_type": "code",
   "execution_count": 21,
   "metadata": {
    "id": "RmnfyHW8RVm-"
   },
   "outputs": [],
   "source": [
    "import numpy as np"
   ]
  },
  {
   "cell_type": "code",
   "execution_count": 22,
   "metadata": {
    "id": "NdM8IC_LRWuE"
   },
   "outputs": [],
   "source": [
    "A = np.array([\n",
    "    [5, 3],\n",
    "    [-6,-4]\n",
    "])"
   ]
  },
  {
   "cell_type": "code",
   "execution_count": 23,
   "metadata": {
    "id": "h7HKtTT9Rgil"
   },
   "outputs": [],
   "source": [
    "eigenvalues, eigenvectors = np.linalg.eig(A)"
   ]
  },
  {
   "cell_type": "code",
   "execution_count": 24,
   "metadata": {
    "colab": {
     "base_uri": "https://localhost:8080/"
    },
    "id": "R8y-xWFERlMU",
    "outputId": "ecc8e46e-d3e4-40f1-c0a3-282a66e8e7dd"
   },
   "outputs": [
    {
     "name": "stdout",
     "output_type": "stream",
     "text": [
      "[ 2. -1.]\n"
     ]
    }
   ],
   "source": [
    "print(eigenvalues)"
   ]
  },
  {
   "cell_type": "code",
   "execution_count": 25,
   "metadata": {
    "colab": {
     "base_uri": "https://localhost:8080/"
    },
    "id": "SHoGgUqIRmll",
    "outputId": "6b9cfb31-ebb3-4e13-a01f-78a38bca4f9c"
   },
   "outputs": [
    {
     "name": "stdout",
     "output_type": "stream",
     "text": [
      "[[ 0.70710678 -0.4472136 ]\n",
      " [-0.70710678  0.89442719]]\n"
     ]
    }
   ],
   "source": [
    "print(eigenvectors)"
   ]
  },
  {
   "cell_type": "code",
   "execution_count": 26,
   "metadata": {
    "colab": {
     "base_uri": "https://localhost:8080/"
    },
    "id": "--OmW_w7TJgW",
    "outputId": "18b646c3-6058-45be-a82a-21b1d33de42c"
   },
   "outputs": [
    {
     "data": {
      "text/plain": [
       "array([[ 2. ,  1.5],\n",
       "       [-3. , -2.5]])"
      ]
     },
     "execution_count": 26,
     "metadata": {},
     "output_type": "execute_result"
    }
   ],
   "source": [
    "np.linalg.inv(A)"
   ]
  },
  {
   "cell_type": "markdown",
   "metadata": {
    "id": "_XtIqGroTbgK"
   },
   "source": [
    "# Post Lab Exercise\n",
    "## 1. Write a program to check whether all elements in an array are non zero."
   ]
  },
  {
   "cell_type": "code",
   "execution_count": 27,
   "metadata": {
    "id": "Vvu0NKMnTlan"
   },
   "outputs": [],
   "source": [
    "import numpy as np"
   ]
  },
  {
   "cell_type": "code",
   "execution_count": 28,
   "metadata": {
    "id": "PBpNdFziTot7"
   },
   "outputs": [],
   "source": [
    "to_check = np.array([1,0,45,6,6,4,2])"
   ]
  },
  {
   "cell_type": "code",
   "execution_count": 29,
   "metadata": {
    "id": "KvoshfbMTwP8"
   },
   "outputs": [],
   "source": [
    "if np.all(to_check) == True:\n",
    "  print(\"All elements are non-zero\")"
   ]
  },
  {
   "cell_type": "markdown",
   "metadata": {
    "id": "bbDQlqY_UJIe"
   },
   "source": [
    "## 2. Write a program to create a 2X2 matrix of ones and adding a border around it with zeros."
   ]
  },
  {
   "cell_type": "code",
   "execution_count": 30,
   "metadata": {
    "id": "1Hukiex5UNyi"
   },
   "outputs": [],
   "source": [
    "import numpy as np"
   ]
  },
  {
   "cell_type": "code",
   "execution_count": 31,
   "metadata": {
    "id": "a_rl3pHoUPLq"
   },
   "outputs": [],
   "source": [
    "the_ones = np.ones((2,2))"
   ]
  },
  {
   "cell_type": "code",
   "execution_count": 32,
   "metadata": {
    "colab": {
     "base_uri": "https://localhost:8080/"
    },
    "id": "6NCz3tZ5U_Dq",
    "outputId": "5f0c2090-fee6-4b10-b7a6-5f2c8a9cbacb"
   },
   "outputs": [
    {
     "data": {
      "text/plain": [
       "array([[0., 0., 0., 0.],\n",
       "       [0., 1., 1., 0.],\n",
       "       [0., 1., 1., 0.],\n",
       "       [0., 0., 0., 0.]])"
      ]
     },
     "execution_count": 32,
     "metadata": {},
     "output_type": "execute_result"
    }
   ],
   "source": [
    "np.pad(the_ones, 1, mode=\"constant\", constant_values=0)"
   ]
  },
  {
   "cell_type": "markdown",
   "metadata": {
    "id": "zoPyM1Mzwben"
   },
   "source": [
    "# 3.Write a program to multiply a randomly generated 4X3 size matrix to randomly generated 3X5 size matrix."
   ]
  },
  {
   "cell_type": "code",
   "execution_count": 33,
   "metadata": {
    "id": "VRCZjdBEwfXn"
   },
   "outputs": [],
   "source": [
    "import numpy as np"
   ]
  },
  {
   "cell_type": "code",
   "execution_count": 34,
   "metadata": {
    "colab": {
     "base_uri": "https://localhost:8080/"
    },
    "id": "t5AKYw8VwgYR",
    "outputId": "4ba9d4e1-8ba6-4599-8872-f2e71d6fea1a"
   },
   "outputs": [
    {
     "data": {
      "text/plain": [
       "array([[0.7589571 , 1.17285237, 1.0187091 , 1.43035594, 1.05286345],\n",
       "       [0.73323745, 0.97099565, 0.53443244, 1.13851682, 0.63326117],\n",
       "       [0.96589236, 1.35793097, 0.71211875, 1.56568345, 0.9104584 ],\n",
       "       [0.6307608 , 1.11298817, 0.79834737, 1.28877175, 0.9759676 ]])"
      ]
     },
     "execution_count": 34,
     "metadata": {},
     "output_type": "execute_result"
    }
   ],
   "source": [
    "np.matmul(np.random.rand(4,3), np.random.rand(3,5))"
   ]
  },
  {
   "cell_type": "markdown",
   "metadata": {
    "id": "XIv-75v-w4sZ"
   },
   "source": [
    "# 4. Write a program to solve the system of equations x0 + 2 * x1 = 1 and 3 * x0 + 5 * x1 = 2"
   ]
  },
  {
   "cell_type": "code",
   "execution_count": 35,
   "metadata": {
    "id": "2lbPnTH_w89u"
   },
   "outputs": [],
   "source": [
    "import numpy as np"
   ]
  },
  {
   "cell_type": "code",
   "execution_count": 36,
   "metadata": {
    "id": "d2MSOtn3w94R"
   },
   "outputs": [],
   "source": [
    "A = np.array([\n",
    "    [1,2],\n",
    "    [3,5]\n",
    "])"
   ]
  },
  {
   "cell_type": "code",
   "execution_count": 37,
   "metadata": {
    "id": "z7z435iqxPnX"
   },
   "outputs": [],
   "source": [
    "B = np.array([\n",
    "    [1],\n",
    "    [2]\n",
    "])"
   ]
  },
  {
   "cell_type": "code",
   "execution_count": 38,
   "metadata": {
    "colab": {
     "base_uri": "https://localhost:8080/"
    },
    "id": "QDNFwzbZxVbV",
    "outputId": "a98ffc97-7b85-49fa-9ef8-f9999f920f47"
   },
   "outputs": [
    {
     "data": {
      "text/plain": [
       "array([[-1.],\n",
       "       [ 1.]])"
      ]
     },
     "execution_count": 38,
     "metadata": {},
     "output_type": "execute_result"
    }
   ],
   "source": [
    "np.linalg.solve(A,B)"
   ]
  }
 ],
 "metadata": {
  "colab": {
   "provenance": []
  },
  "kernelspec": {
   "display_name": "Python 3 (ipykernel)",
   "language": "python",
   "name": "python3"
  },
  "language_info": {
   "codemirror_mode": {
    "name": "ipython",
    "version": 3
   },
   "file_extension": ".py",
   "mimetype": "text/x-python",
   "name": "python",
   "nbconvert_exporter": "python",
   "pygments_lexer": "ipython3",
   "version": "3.12.6"
  }
 },
 "nbformat": 4,
 "nbformat_minor": 4
}
